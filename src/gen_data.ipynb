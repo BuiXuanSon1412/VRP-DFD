{
 "cells": [
  {
   "cell_type": "code",
   "execution_count": null,
   "id": "b36041a6",
   "metadata": {},
   "outputs": [],
   "source": [
    "import random\n",
    "import csv\n",
    "\n",
    "def gen_data(number_customer, square, filename):\n",
    "    customers = []\n",
    "    for i in range(number_customer):\n",
    "        # 90% customers have lower_demand in [0, 10]\n",
    "        if random.random() < 0.9:\n",
    "            lower_demand = random.randint(0, 10)\n",
    "        else: \n",
    "            lower_demand = random.randint(15, 250)\n",
    "\n",
    "        # upper_demand in [lower_demand, 3*lower_demand]\n",
    "        if lower_demand == 0:\n",
    "            upper_demand = 0\n",
    "        else:\n",
    "            upper_demand = random.randint(lower_demand, 3 * lower_demand)\n",
    "\n",
    "        # profit_unit in [10, 100]\n",
    "        profit_unit = random.uniform(10, 100)\n",
    "\n",
    "        # service_time in [1/60, 5/60]\n",
    "        service_time = random.uniform(1/60, 5/60)\n",
    "\n",
    "        # coordinate in [0, square]\n",
    "        x = random.uniform(0, square)\n",
    "        y = random.uniform(0, square)\n",
    "\n",
    "        customers.append({\n",
    "            \"id\": i+1,\n",
    "            \"l\": lower_demand,\n",
    "            \"u\": upper_demand,\n",
    "            \"w\": profit_unit,\n",
    "            \"t\": service_time,\n",
    "            \"x\": x,\n",
    "            \"y\": y\n",
    "        })\n",
    "\n",
    "    # Lưu ra file CSV\n",
    "    with open(filename, mode=\"w\", newline=\"\") as f:\n",
    "        writer = csv.DictWriter(f, fieldnames=[\"id\", \"l\", \"u\", \"w\", \"t\", \"x\", \"y\"])\n",
    "        writer.writeheader()\n",
    "        writer.writerows(customers)\n",
    "\n",
    "    return customers\n"
   ]
  },
  {
   "cell_type": "code",
   "execution_count": null,
   "id": "6fc9014f",
   "metadata": {},
   "outputs": [],
   "source": [
    "data = gen_data(100, 20, filename=\"data/customers.csv\")"
   ]
  }
 ],
 "metadata": {
  "language_info": {
   "name": "python"
  }
 },
 "nbformat": 4,
 "nbformat_minor": 5
}
