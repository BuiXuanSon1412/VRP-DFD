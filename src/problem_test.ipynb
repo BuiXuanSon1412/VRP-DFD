{
 "cells": [
  {
   "cell_type": "code",
   "execution_count": 2,
   "id": "9ac74f79",
   "metadata": {},
   "outputs": [],
   "source": [
    "import sys\n",
    "import os\n",
    "src_path = r\"d:\\Research\\SOICT2025\\Code\\VRP-DFD\\src\"\n",
    "sys.path.append(src_path)\n",
    "\n",
    "from problem import Customer, Problem"
   ]
  },
  {
   "cell_type": "code",
   "execution_count": 3,
   "id": "e9006ee2",
   "metadata": {},
   "outputs": [],
   "source": [
    "import csv\n",
    "def load_customers(filename):\n",
    "    customer_list = []\n",
    "    depot = Customer(0, 0, 0, 0, 0, 0)\n",
    "    customer_list.append(depot)\n",
    "    with open(filename, mode=\"r\") as f:\n",
    "        reader = csv.DictReader(f)\n",
    "        for row in reader:\n",
    "            c = Customer(\n",
    "                float(row[\"l\"]),\n",
    "                float(row[\"u\"]),\n",
    "                float(row[\"w\"]),\n",
    "                float(row[\"t\"]),\n",
    "                float(row[\"x\"]),\n",
    "                float(row[\"y\"])\n",
    "            )\n",
    "            customer_list.append(c)\n",
    "    \n",
    "    return customer_list"
   ]
  },
  {
   "cell_type": "code",
   "execution_count": 4,
   "id": "26b3aa2f",
   "metadata": {},
   "outputs": [],
   "source": [
    "import math\n",
    "\n",
    "def build_distance_matrices(customers):\n",
    "    n = len(customers)\n",
    "    distance_matrix_truck = [[0] * n for _ in range(n)]\n",
    "    distance_matrix_drone = [[0] * n for _ in range(n)]\n",
    "    \n",
    "    for i in range(n):\n",
    "        for j in range(n):\n",
    "            if i == j:\n",
    "                continue \n",
    "            xi, yi = customers[i].x, customers[i].y\n",
    "            xj, yj = customers[j].x, customers[j].y\n",
    "            \n",
    "            distance_matrix_truck[i][j] = abs(xi - xj) + abs(yi - yj)\n",
    "            distance_matrix_drone[i][j] = math.sqrt((xi - xj) ** 2 + (yi - yj) ** 2)\n",
    "    \n",
    "    return distance_matrix_truck, distance_matrix_drone"
   ]
  },
  {
   "cell_type": "code",
   "execution_count": 5,
   "id": "2330bb98",
   "metadata": {},
   "outputs": [],
   "source": [
    "customer_list = load_customers(filename=\"data/customers.csv\")"
   ]
  },
  {
   "cell_type": "code",
   "execution_count": null,
   "id": "c7264c09",
   "metadata": {},
   "outputs": [],
   "source": [
    "truck_capacity = 3750 #750 kg\n",
    "drone_capacity = 15 # 3 kg\n",
    "drone_energy = 180 # Wh\n",
    "speed_of_truck = 60 # km/h\n",
    "speed_of_drone = 80 # km/h\n",
    "launch_time = 1/60\n",
    "land_time = 1/60\n",
    "energy_consumption_rate = 40*0.2\n",
    "weight_of_drone = 30 #6 kg\n",
    "truck_cost = 0.78 # $/km\n",
    "drone_cost = 0.0104 # $/km\n",
    "fix_truck_cost = 15\n",
    "fix_drone_cost = 5\n",
    "weight_of_unit = 0.2 #kg\n"
   ]
  },
  {
   "cell_type": "code",
   "execution_count": null,
   "id": "867c1187",
   "metadata": {},
   "outputs": [],
   "source": [
    "number_of_trucks = 3\n",
    "number_of_drones = 5\n",
    "system_time = 8\n",
    "distance_matrix_truck, distance_matrix_drone = build_distance_matrices(customer_list)"
   ]
  },
  {
   "cell_type": "code",
   "execution_count": 10,
   "id": "75155b7f",
   "metadata": {},
   "outputs": [],
   "source": [
    "problem = Problem(customer_list, number_of_trucks, number_of_drones, distance_matrix_truck,\n",
    "                distance_matrix_drone, truck_capacity, drone_capacity, drone_energy,\n",
    "                speed_of_truck, speed_of_drone, launch_time, land_time, system_time,\n",
    "                energy_consumption_rate, weight_of_drone)"
   ]
  },
  {
   "cell_type": "code",
   "execution_count": 11,
   "id": "1219af4a",
   "metadata": {},
   "outputs": [],
   "source": [
    "customers = customer_list"
   ]
  },
  {
   "cell_type": "code",
   "execution_count": 12,
   "id": "9d014ff8",
   "metadata": {},
   "outputs": [
    {
     "name": "stdout",
     "output_type": "stream",
     "text": [
      "Truck capacity OK: True\n",
      "Drone capacity OK: True\n",
      "Truck route time: 2.514810284251171\n",
      "Truck time constraint OK: True\n",
      "Drone route time: 1.5040616954730393\n",
      "Drone time constraint OK: True\n",
      "Drone route energy: 314.9492596658538\n",
      "Drone energy constraint OK: False\n"
     ]
    }
   ],
   "source": [
    "# Tạo route mẫu\n",
    "route1 = [(1, customers[1].l), (2, customers[2].l), (3, customers[3].l)]  # route truck\n",
    "route2 = [(4, customers[4].l), (5, customers[5].l)]  # route drone\n",
    "multi_route = [route2]  # danh sách các route drone\n",
    "\n",
    "# Kiểm tra các hàm\n",
    "print(\"Truck capacity OK:\", problem.check_truck_capacity(route1))\n",
    "print(\"Drone capacity OK:\", problem.check_drone_capacity(route2))\n",
    "print(\"Truck route time:\", problem.cal_truck_route_time(route1))\n",
    "print(\"Truck time constraint OK:\", problem.check_truck_time_constraint(route1))\n",
    "print(\"Drone route time:\", problem.cal_drone_route_time(route2))\n",
    "print(\"Drone time constraint OK:\", problem.check_drone_time_constraint(multi_route))\n",
    "print(\"Drone route energy:\", problem.cal_drone_route_energy(route2))\n",
    "print(\"Drone energy constraint OK:\", problem.check_drone_energy_constraint(route2))"
   ]
  }
 ],
 "metadata": {
  "kernelspec": {
   "display_name": "base",
   "language": "python",
   "name": "python3"
  },
  "language_info": {
   "codemirror_mode": {
    "name": "ipython",
    "version": 3
   },
   "file_extension": ".py",
   "mimetype": "text/x-python",
   "name": "python",
   "nbconvert_exporter": "python",
   "pygments_lexer": "ipython3",
   "version": "3.12.7"
  }
 },
 "nbformat": 4,
 "nbformat_minor": 5
}
